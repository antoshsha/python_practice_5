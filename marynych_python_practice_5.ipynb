{
 "cells": [
  {
   "cell_type": "markdown",
   "metadata": {
    "id": "5qV_sehzFCTp"
   },
   "source": [
    "# I. OOP"
   ]
  },
  {
   "cell_type": "markdown",
   "metadata": {
    "id": "tx_U_hOALyfg"
   },
   "source": [
    "1. (6б). Створіть клас Animal, додайте три атрибути, один з яких має значення за замовчуванням та два методи на свій розсуд."
   ]
  },
  {
   "cell_type": "code",
   "execution_count": 3,
   "metadata": {
    "id": "-Vf895KaL88N"
   },
   "outputs": [],
   "source": [
    "class Animal:\n",
    "    def __init__(self, name, animal_type, friendly_score=0):\n",
    "        self.name = name\n",
    "        self.animal_type = animal_type\n",
    "        self.friendly_score = friendly_score\n",
    "\n",
    "    def get_name_and_friendly_score(self):\n",
    "        print(f\"My name is {self.name} and my friendly score is {self.friendly_score}\")\n",
    "\n",
    "    def get_name_and_animal_type(self):\n",
    "        print(f\"My name is {self.name} and my animal type is {self.animal_type}\")"
   ]
  },
  {
   "cell_type": "markdown",
   "metadata": {
    "id": "X_UlOMB0L93w"
   },
   "source": [
    "2. (2б). Створіть два обʼєкти цього класу, де один з обʼєктів створюється із дефолтним значенням атрибуту. На одному обʼєкті отримайте значення його атрибуту, а на іншому викличте один з його методів."
   ]
  },
  {
   "cell_type": "code",
   "execution_count": 4,
   "metadata": {
    "id": "7gBu0ESOMCpG"
   },
   "outputs": [
    {
     "name": "stdout",
     "output_type": "stream",
     "text": [
      "0\n",
      "My name is marsik and my animal type is goat\n"
     ]
    }
   ],
   "source": [
    "animal1 = Animal(\"marakas\", \"cat\")\n",
    "animal2 = Animal(\"marsik\", \"goat\", 8)\n",
    "print(animal1.friendly_score)\n",
    "animal2.get_name_and_animal_type()"
   ]
  },
  {
   "cell_type": "markdown",
   "metadata": {
    "id": "HoqSCZt1MHn5"
   },
   "source": [
    "3. (5б). Створіть клас, де атрибути мають різні рівні доступу. Спробуйте отримати їхні значення та опишіть результати."
   ]
  },
  {
   "cell_type": "code",
   "execution_count": 6,
   "metadata": {
    "id": "r9b3vJxBMSPV"
   },
   "outputs": [
    {
     "name": "stdout",
     "output_type": "stream",
     "text": [
      "public: Anton\n",
      "protected: 20\n",
      "'Person' object has no attribute '__gender'\n"
     ]
    }
   ],
   "source": [
    "class Person:\n",
    "    def __init__(self, name, age, gender):\n",
    "        self.name = name            \n",
    "        self._age = age\n",
    "        self.__gender = gender\n",
    "\n",
    "    def display_info(self):\n",
    "        print(f\"my name is: {self.name}\")\n",
    "        print(f\"my age is: {self._age}\")\n",
    "        print(f\"my gender is: {self.__gender}\")\n",
    "\n",
    "\n",
    "person = Person(\"Anton\", 20, \"male\")\n",
    "print(\"public:\", person.name)\n",
    "print(\"protected:\", person._age)\n",
    "try:\n",
    "    print(\"private:\", person.__gender)\n",
    "except AttributeError as err:\n",
    "    print(err)\n"
   ]
  },
  {
   "cell_type": "markdown",
   "metadata": {},
   "source": [
    "**По дефолту атрибут паблік, протектед теж можна дістати, бо він протектед лише за домовленістю, а прайват дійсно забезпечує заборону доступу.**"
   ]
  },
  {
   "cell_type": "markdown",
   "metadata": {
    "id": "5op2m2vgMSkZ"
   },
   "source": [
    "4. (7б). Як ви розумієте термін self? Для чого використовується метод __init __?"
   ]
  },
  {
   "cell_type": "markdown",
   "metadata": {
    "id": "DyiPqNRvMasx"
   },
   "source": [
    " - **__init __ це конструктор, це зарезервований метод, який використовується для ініціалізації атрибутів, значення яких передаються в клас, цей метод викликається автоматично, коли створується клас**\n",
    " \n",
    " - **self це посилання на конкретний обʼєкт класу, якщо ми викликаємо метод для якогось обʼєкту класу, то першим ми передаємо в той метод саме посилання на обʼєкт класу, з якого викликається метод.**"
   ]
  },
  {
   "cell_type": "markdown",
   "metadata": {
    "id": "-6X8EGfjMd2y"
   },
   "source": [
    "5. (9б). Створіть клас Фігура без атрибутів, з методом get_area для отримання площі фігури, що повертає 0 та __add __, який приймає self та other в якості аргументів, а повертає суму площин фігур self та other."
   ]
  },
  {
   "cell_type": "code",
   "execution_count": 7,
   "metadata": {
    "id": "4rvO_wYUMaEr"
   },
   "outputs": [],
   "source": [
    "class Shape:\n",
    "    def get_area(self):\n",
    "        return 0\n",
    "\n",
    "    def __add__(self, other):\n",
    "        return self.get_area() + other.get_area()"
   ]
  },
  {
   "cell_type": "markdown",
   "metadata": {
    "id": "SFcKnnv5Mo_z"
   },
   "source": [
    "6. (11б). Створіть 2 дочірніх класи від Фігури: Трикутник та Коло, які мають атрибути, необхідні для розрахунку площин. Визначте метод get_area в кожному з них так, щоби вони розраховували площу в залежності від формули для кожного типу фігури. Створіть обʼєкт класу Трикутник та обʼєкт класу Коло. Виконайте операцію суми за допомогою оператора + між ними."
   ]
  },
  {
   "cell_type": "code",
   "execution_count": 8,
   "metadata": {
    "id": "H3GVNr69Muf3"
   },
   "outputs": [],
   "source": [
    "import math\n",
    "\n",
    "class Triangle(Shape):\n",
    "    def __init__(self, base, height):\n",
    "        self.base = base\n",
    "        self.height = height\n",
    "\n",
    "    def get_area(self):\n",
    "        return 0.5 * self.base * self.height\n",
    "\n",
    "class Circle(Shape):\n",
    "    def __init__(self, radius):\n",
    "        self.radius = radius\n",
    "\n",
    "    def get_area(self):\n",
    "        return math.pi * self.radius ** 2"
   ]
  },
  {
   "cell_type": "code",
   "execution_count": 10,
   "metadata": {},
   "outputs": [
    {
     "name": "stdout",
     "output_type": "stream",
     "text": [
      "9.141592653589793\n"
     ]
    }
   ],
   "source": [
    "my_triangle = Triangle(3, 4)\n",
    "my_circle = Circle(1)\n",
    "\n",
    "print(\"triangle area: \", my_triangle.get_area())\n",
    "print(\"circle area: \", my_circle.get_area())\n",
    "sum_area = my_triangle + my_circle\n",
    "print(sum_area)"
   ]
  },
  {
   "cell_type": "markdown",
   "metadata": {
    "id": "HCvR206YMvLK"
   },
   "source": [
    "7. (3б). Продемонструйте різницю між isinstance та issubclass."
   ]
  },
  {
   "cell_type": "code",
   "execution_count": 13,
   "metadata": {
    "id": "L_V1bBvDM0GN"
   },
   "outputs": [
    {
     "name": "stdout",
     "output_type": "stream",
     "text": [
      "True\n",
      "True\n",
      "True\n"
     ]
    }
   ],
   "source": [
    "print(isinstance(my_triangle, Triangle))\n",
    "print(isinstance(my_circle, Circle))\n",
    "print(isinstance(my_circle, Shape))"
   ]
  },
  {
   "cell_type": "code",
   "execution_count": 15,
   "metadata": {},
   "outputs": [
    {
     "name": "stdout",
     "output_type": "stream",
     "text": [
      "True\n",
      "True\n",
      "False\n"
     ]
    }
   ],
   "source": [
    "print(issubclass(Circle,Shape))\n",
    "print(issubclass(Triangle,Shape))\n",
    "print(issubclass(Shape,Circle))"
   ]
  },
  {
   "cell_type": "markdown",
   "metadata": {},
   "source": [
    "**Тобто метод isinstance використовується для обʼєктів, а метод issubclass для класів. Метод isinstance дозволяє перевірити чи належить обʼєкт до певного класу або чи не зроблений цей обʼєкт через клас, що успадковує даний. А метод issubclass просто перевіряє, чи є перший аргумент сабкласом другого аргументу.**"
   ]
  },
  {
   "cell_type": "markdown",
   "metadata": {
    "id": "jjsaBZ-iM0Qq"
   },
   "source": [
    "8. (13б). Створіть клас BankAccount з приватними атрибутами balance та account_number. Реалізуйте методи поповнення та зняття коштів, забезпечивши належну інкапсуляцію. Підказка: використовуйте декоратори property та setter."
   ]
  },
  {
   "cell_type": "code",
   "execution_count": 16,
   "metadata": {
    "id": "xCvZ7lh8M7YA"
   },
   "outputs": [],
   "source": [
    "class BankAccount:\n",
    "    def __init__(self, initial_balance=0, account_number=None):\n",
    "        self.__balance = initial_balance\n",
    "        self.__account_number = account_number\n",
    "\n",
    "    @property\n",
    "    def balance(self):\n",
    "        return self.__balance\n",
    "\n",
    "    @balance.setter\n",
    "    def balance(self, new_balance):\n",
    "        if new_balance >= 0:\n",
    "            self.__balance = new_balance\n",
    "        else:\n",
    "            print(\"balance can't be negative\")\n",
    "\n",
    "    @property\n",
    "    def account_number(self):\n",
    "        return self.__account_number\n",
    "\n",
    "    def deposit(self, amount):\n",
    "        if amount > 0:\n",
    "            self.balance += amount\n",
    "        else:\n",
    "            print(\"deposit can't be negative\")\n",
    "\n",
    "    def withdraw(self, amount):\n",
    "        if amount > 0:\n",
    "            if self.balance >= amount:\n",
    "                self.balance -= amount\n",
    "            else:\n",
    "                print(\"you've made a mistake\")\n",
    "        else:\n",
    "            print(\"you can't withdraw negative amounts of money\")"
   ]
  },
  {
   "cell_type": "code",
   "execution_count": 24,
   "metadata": {},
   "outputs": [
    {
     "name": "stdout",
     "output_type": "stream",
     "text": [
      "11111\n",
      "200\n",
      "300\n",
      "150\n"
     ]
    }
   ],
   "source": [
    "my_account = BankAccount(200,11111)\n",
    "print(my_account.account_number)\n",
    "print(my_account.balance)\n",
    "my_account.deposit(100)\n",
    "print(my_account.balance)\n",
    "my_account.withdraw(150)\n",
    "print(my_account.balance)"
   ]
  },
  {
   "cell_type": "markdown",
   "metadata": {
    "id": "tIzL2SJTM8ft"
   },
   "source": [
    "9. (11б). Створіть клас Library, який містить список об'єктів типу Book. Реалізуйте методи для додавання книги, видалення книги та відображення списку книг."
   ]
  },
  {
   "cell_type": "code",
   "execution_count": 26,
   "metadata": {
    "id": "HWxfJKLtNAUZ"
   },
   "outputs": [],
   "source": [
    "class Book:\n",
    "    def __init__(self, title, author, year):\n",
    "        self.title = title\n",
    "        self.author = author\n",
    "        self.year = year\n",
    "\n",
    "class Library:\n",
    "    def __init__(self):\n",
    "        self.books = []\n",
    "\n",
    "    def add_book(self, book):\n",
    "        self.books.append(book)\n",
    "\n",
    "    def remove_book(self, title):\n",
    "        for book in self.books:\n",
    "            if book.title == title:\n",
    "                self.books.remove(book)\n",
    "                return\n",
    "        print(f\"{title} is not there.\")\n",
    "\n",
    "    def display_books(self):\n",
    "        if not self.books:\n",
    "            print(\"There is nothing to display\")\n",
    "        else:\n",
    "            print(\"This library has such books:\")\n",
    "            for book in self.books:\n",
    "                print(f\"- '{book.title}' by {book.author}, published in {book.year}\")"
   ]
  },
  {
   "cell_type": "code",
   "execution_count": 33,
   "metadata": {},
   "outputs": [
    {
     "name": "stdout",
     "output_type": "stream",
     "text": [
      "There is nothing to display\n",
      "----------\n",
      "This library has such books:\n",
      "- 'book1' by author1, published in 2010\n",
      "- 'book2' by author2, published in 2000\n",
      "- 'book3' by author3, published in 1000\n",
      "----------\n",
      "book4 is not there.\n",
      "----------\n",
      "This library has such books:\n",
      "- 'book2' by author2, published in 2000\n",
      "- 'book3' by author3, published in 1000\n",
      "----------\n"
     ]
    }
   ],
   "source": [
    "library = Library()\n",
    "library.display_books()\n",
    "print(\"-\"*10)\n",
    "book1 = Book(\"book1\", \"author1\", 2010)\n",
    "book2 = Book(\"book2\", \"author2\", 2000)\n",
    "book3 = Book(\"book3\", \"author3\", 1000)\n",
    "library.add_book(book1)\n",
    "library.add_book(book2)\n",
    "library.add_book(book3)\n",
    "library.display_books()\n",
    "print(\"-\"*10)\n",
    "library.remove_book(\"book1\")\n",
    "library.remove_book(\"book4\")\n",
    "print(\"-\"*10)\n",
    "library.display_books()\n",
    "print(\"-\"*10)"
   ]
  },
  {
   "cell_type": "markdown",
   "metadata": {
    "id": "lmV8pAwwNIqu"
   },
   "source": [
    "10. (13б). Створіть клас Person з атрибутами name та age. Створіть ще один клас Employee з такими атрибутами, як department та salary. Створіть клас Manager, який успадковує обидва класи Person та Employee. Продемонструйте використання множинної спадковості, створивши обʼєкт класу Manager та отримавши mro для цього класу."
   ]
  },
  {
   "cell_type": "code",
   "execution_count": 34,
   "metadata": {
    "id": "R49grKlWNPeN"
   },
   "outputs": [],
   "source": [
    "class Person:\n",
    "    def __init__(self, name, age):\n",
    "        self.name = name\n",
    "        self.age = age\n",
    "\n",
    "class Employee:\n",
    "    def __init__(self, department, salary):\n",
    "        self.department = department\n",
    "        self.salary = salary\n",
    "\n",
    "class Manager(Person, Employee):\n",
    "    def __init__(self, name, age, department, salary):\n",
    "        Person.__init__(self, name, age)\n",
    "        Employee.__init__(self, department, salary)"
   ]
  },
  {
   "cell_type": "code",
   "execution_count": 38,
   "metadata": {},
   "outputs": [
    {
     "name": "stdout",
     "output_type": "stream",
     "text": [
      "anton\n",
      "20\n",
      "CS\n",
      "2000\n"
     ]
    },
    {
     "data": {
      "text/plain": [
       "(__main__.Manager, __main__.Person, __main__.Employee, object)"
      ]
     },
     "execution_count": 38,
     "metadata": {},
     "output_type": "execute_result"
    }
   ],
   "source": [
    "my_manager = Manager(\"anton\", 20, \"CS\", 2000)\n",
    "print(my_manager.name)\n",
    "print(my_manager.age)\n",
    "print(my_manager.department)\n",
    "print(my_manager.salary)\n",
    "Manager.__mro__"
   ]
  },
  {
   "cell_type": "markdown",
   "metadata": {
    "id": "dIJyUiNBFG8G"
   },
   "source": [
    "# II. Iterator"
   ]
  },
  {
   "cell_type": "markdown",
   "metadata": {
    "id": "13vsm0NyKIzL"
   },
   "source": [
    "11. (4б). Визначте рядок(str) з 4ма різними за значенням символами. Створіть ітератор на основі цього рядка. Викличте 5 разів функцію next на ітераторі, 4ри перших з них огорніть у ф-цію print()."
   ]
  },
  {
   "cell_type": "code",
   "execution_count": 49,
   "metadata": {
    "id": "81ntabAkKuz-"
   },
   "outputs": [
    {
     "name": "stdout",
     "output_type": "stream",
     "text": [
      "a\n",
      "b\n",
      "c\n",
      "d\n",
      "StopIteration\n"
     ]
    }
   ],
   "source": [
    "my_string = \"abcd\"\n",
    "my_iterator = iter(my_string)\n",
    "for i in range(len(my_string)):\n",
    "    print(next(my_iterator))\n",
    "try:\n",
    "    next(my_iterator)\n",
    "except StopIteration as err:\n",
    "    print(\"StopIteration\")"
   ]
  },
  {
   "cell_type": "markdown",
   "metadata": {
    "id": "aekWHGXOLRsO"
   },
   "source": [
    "А що якщо викликати цю ж функцію на рядку?"
   ]
  },
  {
   "cell_type": "code",
   "execution_count": 51,
   "metadata": {
    "id": "mxATGsErLV1i"
   },
   "outputs": [
    {
     "name": "stdout",
     "output_type": "stream",
     "text": [
      "'str' object is not an iterator\n"
     ]
    }
   ],
   "source": [
    "try:\n",
    "    print(next(my_string))\n",
    "except TypeError as err:\n",
    "    print(err)"
   ]
  },
  {
   "cell_type": "markdown",
   "metadata": {
    "id": "XwtMEopwJ4pH"
   },
   "source": [
    " 12. (5б). Опишіть своїми словами в одному реченні, як ви розумієте різницю між ітерабельними обʼєктами та ітераторами (можна на прикладі)."
   ]
  },
  {
   "cell_type": "markdown",
   "metadata": {
    "id": "-sHrODc3KFn8"
   },
   "source": [
    "**Ітерабельний обʼєкт це просто обʼєкт по которому можна проходитись (ітеруватись), а те, що по ньому проходиться, вже можна називати ітератором.**"
   ]
  },
  {
   "cell_type": "markdown",
   "metadata": {
    "id": "E9qJWmNbK8Gl"
   },
   "source": [
    "13. (11б). Створіть клас, що має визначений Iterator Protocol та при кожному виклику next повертає літери англійської абетки, поки вони не вичерпаються."
   ]
  },
  {
   "cell_type": "code",
   "execution_count": 52,
   "metadata": {
    "id": "cqx-g_RsLo6I"
   },
   "outputs": [
    {
     "name": "stdout",
     "output_type": "stream",
     "text": [
      "a\n",
      "b\n",
      "c\n",
      "d\n",
      "e\n",
      "f\n",
      "g\n",
      "h\n",
      "i\n",
      "j\n",
      "k\n",
      "l\n",
      "m\n",
      "n\n",
      "o\n",
      "p\n",
      "q\n",
      "r\n",
      "s\n",
      "t\n",
      "u\n",
      "v\n",
      "w\n",
      "x\n",
      "y\n",
      "z\n"
     ]
    }
   ],
   "source": [
    "class MyIterator:\n",
    "    def __init__(self):\n",
    "        self.curr__letter = ord('a')\n",
    "\n",
    "    def __iter__(self):\n",
    "        return self\n",
    "\n",
    "    def __next__(self):\n",
    "        if self.curr__letter <= ord('z'):\n",
    "            letter = chr(self.curr__letter)\n",
    "            self.curr__letter += 1\n",
    "            return letter\n",
    "        else:\n",
    "            raise StopIteration\n",
    "\n",
    "my_iterator = MyIterator()\n",
    "for elem in my_iterator:\n",
    "    print(elem)"
   ]
  },
  {
   "cell_type": "markdown",
   "metadata": {
    "id": "Z3E3S_s1Fv7-"
   },
   "source": [
    "# Вітаю! Ви велика(ий) молодець, що впоралась(вся). Похваліть себе та побалуйте чимось приємним. Я Вами пишаюся."
   ]
  }
 ],
 "metadata": {
  "colab": {
   "provenance": []
  },
  "kernelspec": {
   "display_name": "Python 3 (ipykernel)",
   "language": "python",
   "name": "python3"
  },
  "language_info": {
   "codemirror_mode": {
    "name": "ipython",
    "version": 3
   },
   "file_extension": ".py",
   "mimetype": "text/x-python",
   "name": "python",
   "nbconvert_exporter": "python",
   "pygments_lexer": "ipython3",
   "version": "3.9.12"
  }
 },
 "nbformat": 4,
 "nbformat_minor": 1
}
